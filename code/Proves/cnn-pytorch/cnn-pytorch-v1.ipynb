{
  "cells": [
    {
      "cell_type": "code",
      "execution_count": 22,
      "metadata": {
        "colab": {
          "base_uri": "https://localhost:8080/"
        },
        "id": "OEkxq8752xPb",
        "outputId": "b8ee35bc-2f3e-40f6-f7b9-d83298934b0b"
      },
      "outputs": [
        {
          "name": "stdout",
          "output_type": "stream",
          "text": [
            "Requirement already satisfied: kaggle in /anaconda/lib/python3.10/site-packages (1.6.12)\n",
            "Requirement already satisfied: python-slugify in /anaconda/lib/python3.10/site-packages (from kaggle) (8.0.4)\n",
            "Requirement already satisfied: six>=1.10 in /anaconda/lib/python3.10/site-packages (from kaggle) (1.16.0)\n",
            "Requirement already satisfied: requests in /anaconda/lib/python3.10/site-packages (from kaggle) (2.28.1)\n",
            "Requirement already satisfied: bleach in /anaconda/lib/python3.10/site-packages (from kaggle) (6.0.0)\n",
            "Requirement already satisfied: tqdm in /anaconda/lib/python3.10/site-packages (from kaggle) (4.65.0)\n",
            "Requirement already satisfied: certifi>=2023.7.22 in /anaconda/lib/python3.10/site-packages (from kaggle) (2024.2.2)\n",
            "Requirement already satisfied: python-dateutil in /anaconda/lib/python3.10/site-packages (from kaggle) (2.8.2)\n",
            "Requirement already satisfied: urllib3 in /anaconda/lib/python3.10/site-packages (from kaggle) (1.26.15)\n",
            "Requirement already satisfied: webencodings in /anaconda/lib/python3.10/site-packages (from bleach->kaggle) (0.5.1)\n",
            "Requirement already satisfied: text-unidecode>=1.3 in /anaconda/lib/python3.10/site-packages (from python-slugify->kaggle) (1.3)\n",
            "Requirement already satisfied: charset-normalizer<3,>=2 in /anaconda/lib/python3.10/site-packages (from requests->kaggle) (2.0.4)\n",
            "Requirement already satisfied: idna<4,>=2.5 in /anaconda/lib/python3.10/site-packages (from requests->kaggle) (3.4)\n",
            "Warning: Looks like you're using an outdated API Version, please consider updating (server 1.6.14 / client 1.6.12)\n",
            "Dataset URL: https://www.kaggle.com/datasets/guare13/handwritten-letters-recognition\n",
            "License(s): CC0-1.0\n",
            "handwritten-letters-recognition.zip: Skipping, found more recently modified local copy (use --force to force download)\n",
            "Archive:  handwritten-letters-recognition.zip\n",
            "replace test_letters/letter_0.png? [y]es, [n]o, [A]ll, [N]one, [r]ename: ^C\n"
          ]
        }
      ],
      "source": [
        "!pip install kaggle\n",
        "!kaggle datasets download -d guare13/handwritten-letters-recognition\n",
        "!unzip handwritten-letters-recognition.zip"
      ]
    },
    {
      "cell_type": "code",
      "execution_count": 39,
      "metadata": {
        "id": "3jI3o7ob3JB3"
      },
      "outputs": [],
      "source": [
        "import torch\n",
        "import tensorflow as tf\n",
        "import os\n",
        "import cv2\n",
        "import imghdr\n",
        "import pandas as pd\n",
        "import matplotlib.pyplot as plt\n",
        "import numpy as np\n",
        "from sklearn.preprocessing import LabelBinarizer\n",
        "from itertools import chain\n",
        "import random\n",
        "import shutil\n",
        "from sklearn.model_selection import train_test_split\n",
        "import torch.nn as nn\n",
        "import torch.optim as optim\n",
        "from torch.utils.data import Dataset, DataLoader\n",
        "from PIL import Image\n",
        "from torchvision import transforms\n",
        "import torch.nn.functional as F"
      ]
    },
    {
      "cell_type": "code",
      "execution_count": 40,
      "metadata": {
        "id": "cJNXViv5Brlp"
      },
      "outputs": [],
      "source": [
        "train = pd.read_csv('written_letters_train.csv')\n",
        "validation = pd.read_csv('written_letters_validation.csv')"
      ]
    },
    {
      "cell_type": "code",
      "execution_count": 41,
      "metadata": {
        "id": "XseG9YK_BUQA"
      },
      "outputs": [],
      "source": [
        "characters = sorted(set(\"\".join(train['nombre'].astype(str))))\n",
        "char_to_label = {char: idx for idx, char in enumerate(characters)}\n",
        "label_to_char = {idx: char for char, idx in char_to_label.items()}"
      ]
    },
    {
      "cell_type": "code",
      "execution_count": 42,
      "metadata": {
        "id": "igb64Qje3Ox6"
      },
      "outputs": [],
      "source": [
        "path_val = \"valid_letters\"\n",
        "path_test = \"test_letters\"\n",
        "path_train = \"train_letters\""
      ]
    },
    {
      "cell_type": "code",
      "execution_count": 43,
      "metadata": {
        "id": "sn9jLhOh7HId"
      },
      "outputs": [],
      "source": [
        "class DataGenerator(Dataset):\n",
        "    def __init__(self, dataframe, path, char_map, img_size=(14, 10), transform=None):\n",
        "        self.dataframe = dataframe\n",
        "        self.path = path\n",
        "        self.char_map = char_map\n",
        "        self.img_size = img_size\n",
        "        self.transform = transform\n",
        "\n",
        "    def __len__(self):\n",
        "        return len(self.dataframe)\n",
        "\n",
        "    def __getitem__(self, idx):\n",
        "        img_path = self.dataframe['id'].values[idx]\n",
        "        img = cv2.imread(os.path.join(self.path, img_path), cv2.IMREAD_GRAYSCALE)\n",
        "        img = cv2.resize(img, self.img_size)\n",
        "        img = img / 255.0\n",
        "        if self.transform:\n",
        "            img = self.transform(img)\n",
        "        img = torch.tensor(img, dtype=torch.float32).unsqueeze(0)\n",
        "        \n",
        "        text = str(self.dataframe['nombre'].values[idx])\n",
        "        label = torch.tensor([self.char_map[char] for char in text], dtype=torch.long)\n",
        "        return img, label"
      ]
    },
    {
      "cell_type": "code",
      "execution_count": 44,
      "metadata": {},
      "outputs": [],
      "source": [
        "# Transformación para las imágenes\n",
        "transform = transforms.Compose([\n",
        "    transforms.ToTensor()\n",
        "])"
      ]
    },
    {
      "cell_type": "code",
      "execution_count": 45,
      "metadata": {
        "id": "rX7vamtb8xpd"
      },
      "outputs": [],
      "source": [
        "train_generator=DataGenerator(train,path_train,char_to_label)\n",
        "validation_generator=DataGenerator(validation,path_val,char_to_label)"
      ]
    },
    {
      "cell_type": "code",
      "execution_count": 46,
      "metadata": {},
      "outputs": [],
      "source": [
        "train_loader = DataLoader(train_generator, batch_size=100, shuffle=True)\n",
        "validation_loader = DataLoader(validation_generator, batch_size=100, shuffle=False)"
      ]
    },
    {
      "cell_type": "code",
      "execution_count": 48,
      "metadata": {
        "id": "4zi22bXqCC0n"
      },
      "outputs": [],
      "source": [
        "# Defineix el model\n",
        "class SimpleCNN(nn.Module):\n",
        "    def __init__(self):\n",
        "        super(SimpleCNN, self).__init__()\n",
        "        \"\"\"\n",
        "        Entren imatges amb 3 canals de color (RGB) i amb aquesta capa convolucional\n",
        "        s'estreuen característiques loclas de la imatge detectant patrons com bordes,\n",
        "        textures i altres detalls que poden ser importants.\n",
        "        \"\"\"\n",
        "        self.conv1 = nn.Conv2d(1, 32, kernel_size=3, stride=1, padding=1)\n",
        "        \"\"\"\n",
        "        El max pooling redueix la dimensionalitat dels mapas de característiques,\n",
        "        disminuint la mida de les imatges i retenint les característiques més importants\n",
        "        Això ajuda a reduir el sobreajustament i millora l'eficàcia computacional.\n",
        "        \"\"\"\n",
        "        self.pool = nn.MaxPool2d(kernel_size=2, stride=2, padding=0)\n",
        "        \n",
        "        self.dropout = nn.Dropout(0.5)\n",
        "        \"\"\"\n",
        "        Les següents dues capes s'ecarreguen de la classificació final. Transformen\n",
        "        les característiques extretes per les capas convolucionals i de pooling a les\n",
        "        propietats de les diferents classes (lletres).\n",
        "        \"\"\"\n",
        "        self.fc1 = nn.Linear(32 * 7 * 5, 128)\n",
        "        self.fc2 = nn.Linear(128, 29)  # 29 perquè hi ha 29 caràcters a l'alfabet\n",
        "\n",
        "    def forward(self, x):\n",
        "        x = self.pool(F.relu(self.conv1(x)))\n",
        "        x = x.view(-1, 32 * 7 * 5)\n",
        "        x = F.relu(self.fc1(x))\n",
        "        x = self.fc2(x)\n",
        "        return x\n"
      ]
    },
    {
      "cell_type": "code",
      "execution_count": 49,
      "metadata": {
        "id": "9IzlVbOiCcDA"
      },
      "outputs": [],
      "source": [
        "# Instancia el model, defineix la pèrdua i l'optimitzador\n",
        "model = SimpleCNN()\n",
        "criterion = nn.CrossEntropyLoss()\n",
        "optimizer = optim.SGD(model.parameters(), lr=0.001, momentum=0.9)"
      ]
    },
    {
      "cell_type": "code",
      "execution_count": 50,
      "metadata": {
        "colab": {
          "base_uri": "https://localhost:8080/"
        },
        "id": "R39SyclsMBZf",
        "outputId": "3d2712b4-8382-405c-bc55-8f97814348a3"
      },
      "outputs": [
        {
          "name": "stdout",
          "output_type": "stream",
          "text": [
            "Epoch 1/15, Train Loss: 1.9505, Train Acc: 0.4800, Test Loss: 1.1608, Test Acc: 0.6860\n",
            "Epoch 2/15, Train Loss: 0.9491, Train Acc: 0.7463, Test Loss: 0.8380, Test Acc: 0.7769\n",
            "Epoch 3/15, Train Loss: 0.7673, Train Acc: 0.7991, Test Loss: 0.7265, Test Acc: 0.8145\n",
            "Epoch 4/15, Train Loss: 0.6823, Train Acc: 0.8247, Test Loss: 0.6672, Test Acc: 0.8321\n",
            "Epoch 5/15, Train Loss: 0.6260, Train Acc: 0.8424, Test Loss: 0.6249, Test Acc: 0.8435\n",
            "Epoch 6/15, Train Loss: 0.5863, Train Acc: 0.8547, Test Loss: 0.5922, Test Acc: 0.8559\n",
            "Epoch 7/15, Train Loss: 0.5545, Train Acc: 0.8644, Test Loss: 0.5613, Test Acc: 0.8656\n",
            "Epoch 8/15, Train Loss: 0.5297, Train Acc: 0.8713, Test Loss: 0.5291, Test Acc: 0.8733\n",
            "Epoch 9/15, Train Loss: 0.5096, Train Acc: 0.8767, Test Loss: 0.5137, Test Acc: 0.8810\n",
            "Epoch 10/15, Train Loss: 0.4925, Train Acc: 0.8814, Test Loss: 0.5060, Test Acc: 0.8815\n",
            "Epoch 11/15, Train Loss: 0.4769, Train Acc: 0.8865, Test Loss: 0.4870, Test Acc: 0.8871\n",
            "Epoch 12/15, Train Loss: 0.4637, Train Acc: 0.8907, Test Loss: 0.4769, Test Acc: 0.8898\n",
            "Epoch 13/15, Train Loss: 0.4521, Train Acc: 0.8934, Test Loss: 0.4650, Test Acc: 0.8958\n",
            "Epoch 14/15, Train Loss: 0.4420, Train Acc: 0.8966, Test Loss: 0.4589, Test Acc: 0.8965\n",
            "Epoch 15/15, Train Loss: 0.4330, Train Acc: 0.8988, Test Loss: 0.4543, Test Acc: 0.8956\n"
          ]
        },
        {
          "data": {
            "image/png": "[encoded data removed]",
            "text/plain": [
              "<Figure size 1200x500 with 2 Axes>"
            ]
          },
          "metadata": {},
          "output_type": "display_data"
        }
      ],
      "source": [
        "# Entrenar el modelo\n",
        "num_epochs = 15\n",
        "train_losses = []\n",
        "train_accuracies = []\n",
        "test_losses = []\n",
        "test_accuracies = []\n",
        "\n",
        "for epoch in range(num_epochs):\n",
        "    # Entrenamiento\n",
        "    model.train()\n",
        "    running_loss = 0.0\n",
        "    correct = 0\n",
        "    total = 0\n",
        "    for images, labels in train_loader:\n",
        "        optimizer.zero_grad()\n",
        "        outputs = model(images)\n",
        "        loss = criterion(outputs, labels.view(-1))\n",
        "        loss.backward()\n",
        "        optimizer.step()\n",
        "\n",
        "        running_loss += loss.item()\n",
        "        _, predicted = torch.max(outputs, 1)\n",
        "        total += labels.size(0)\n",
        "        correct += (predicted == labels.view(-1)).sum().item()\n",
        "\n",
        "    epoch_loss = running_loss / len(train_loader)\n",
        "    epoch_accuracy = correct / total\n",
        "    train_losses.append(epoch_loss)\n",
        "    train_accuracies.append(epoch_accuracy)\n",
        "\n",
        "    # Evaluación en el conjunto de validación\n",
        "    model.eval()\n",
        "    running_loss = 0.0\n",
        "    correct = 0\n",
        "    total = 0\n",
        "    with torch.no_grad():\n",
        "        for images, labels in validation_loader:\n",
        "            outputs = model(images)\n",
        "            loss = criterion(outputs, labels.view(-1))\n",
        "\n",
        "            running_loss += loss.item()\n",
        "            _, predicted = torch.max(outputs, 1)\n",
        "            total += labels.size(0)\n",
        "            correct += (predicted == labels.view(-1)).sum().item()\n",
        "\n",
        "    epoch_loss = running_loss / len(validation_loader)\n",
        "    epoch_accuracy = correct / total\n",
        "    test_losses.append(epoch_loss)\n",
        "    test_accuracies.append(epoch_accuracy)\n",
        "\n",
        "    print(f\"Epoch {epoch+1}/{num_epochs}, Train Loss: {train_losses[-1]:.4f}, Train Acc: {train_accuracies[-1]:.4f}, Test Loss: {test_losses[-1]:.4f}, Test Acc: {test_accuracies[-1]:.4f}\")\n",
        "\n",
        "# Guardar el modelo entrenado\n",
        "torch.save(model.state_dict(), 'simple_cnn_model.pth')\n",
        "\n",
        "# Crear la gráfica de pérdida y precisión\n",
        "plt.figure(figsize=(12, 5))\n",
        "\n",
        "plt.subplot(1, 2, 1)\n",
        "plt.plot(range(1, num_epochs+1), train_losses, label='Training Loss')\n",
        "plt.plot(range(1, num_epochs+1), test_losses, label='Test Loss')\n",
        "plt.xlabel('Epochs')\n",
        "plt.ylabel('Loss')\n",
        "plt.title('Loss Over Epochs')\n",
        "plt.legend()\n",
        "plt.grid(True)\n",
        "\n",
        "plt.subplot(1, 2, 2)\n",
        "plt.plot(range(1, num_epochs+1), train_accuracies, label='Training Accuracy')\n",
        "plt.plot(range(1, num_epochs+1), test_accuracies, label='Test Accuracy')\n",
        "plt.xlabel('Epochs')\n",
        "plt.ylabel('Accuracy')\n",
        "plt.title('Accuracy Over Epochs')\n",
        "plt.legend()\n",
        "plt.grid(True)\n",
        "\n",
        "plt.tight_layout()\n",
        "plt.show()"
      ]
    },
    {
      "cell_type": "code",
      "execution_count": null,
      "metadata": {
        "id": "oulldVSfCiBw"
      },
      "outputs": [],
      "source": [
        "def compare_letter_pairs(true_labels, predicted_labels):\n",
        "    if len(true_labels) != len(predicted_labels):\n",
        "        raise ValueError(\"Les llistes han de tenir la mateixa longitud\")\n",
        "\n",
        "    total_pairs = len(true_labels)\n",
        "    same_letter_count = 0\n",
        "    total_letters = 0\n",
        "\n",
        "    for label1, label2 in zip(true_labels, predicted_labels):\n",
        "        if label1 == label2:\n",
        "            same_letter_count += 1\n",
        "\n",
        "        total_letters += 1\n",
        "\n",
        "    letter_percentage = (same_letter_count / total_letters) * 100\n",
        "\n",
        "    return same_letter_count, letter_percentage\n",
        "\n",
        "# Exemple d'ús amb les prediccions del model\n",
        "true_labels = []\n",
        "predicted_labels = []\n",
        "\n",
        "with torch.no_grad():\n",
        "    for images, labels in validation_generator:\n",
        "        outputs = model(images)\n",
        "        _, predicted = torch.max(outputs.data, 1)\n",
        "        true_labels.extend(labels.cpu().numpy())\n",
        "        predicted_labels.extend(predicted.cpu().numpy())\n",
        "\n",
        "same_letter_count, letter_percentage = compare_letter_pairs(true_labels, predicted_labels)\n",
        "print(f'Nombre de lletres correctes: {same_letter_count}')\n",
        "print(f'Percentatge de lletres correctes: {letter_percentage}%')"
      ]
    },
    {
      "cell_type": "code",
      "execution_count": null,
      "metadata": {
        "id": "GNEqIVD3H8NJ"
      },
      "outputs": [],
      "source": [
        "# Crear la gráfica de pérdida\n",
        "plt.plot(range(1, num_epochs+1), train_losses, label='Training Loss')\n",
        "plt.xlabel('Epochs')\n",
        "plt.ylabel('Loss')\n",
        "plt.title('Training Loss Over Epochs')\n",
        "plt.legend()\n",
        "plt.grid(True)\n",
        "plt.show()\n",
        "\n",
        "# Crear la gráfica de precisión\n",
        "plt.plot(range(1, num_epochs+1), train_accuracies, label='Training Accuracy')\n",
        "plt.xlabel('Epochs')\n",
        "plt.ylabel('Accuracy')\n",
        "plt.title('Training Accuracy Over Epochs')\n",
        "plt.legend()\n",
        "plt.grid(True)\n",
        "plt.show()"
      ]
    },
    {
      "cell_type": "code",
      "execution_count": null,
      "metadata": {
        "id": "a_b0zFppH9dH"
      },
      "outputs": [],
      "source": [
        "# Guarda el model entrenat\n",
        "torch.save(model.state_dict(), 'cnn_handwritten_letters_model.pth')\n",
        "\n",
        "# Funció per mostrar les mètriques d'entrenament\n",
        "def plot_history(history):\n",
        "    plt.plot(history.history['accuracy'], label='Train Accuracy')\n",
        "    plt.plot(history.history['val_accuracy'], label='Validation Accuracy')\n",
        "    plt.xlabel('Epoch')\n",
        "    plt.ylabel('Accuracy')\n",
        "    plt.legend()\n",
        "    plt.grid(True)\n",
        "    plt.show()\n",
        "\n",
        "plot_history(history)"
      ]
    }
  ],
  "metadata": {
    "colab": {
      "provenance": []
    },
    "kernelspec": {
      "display_name": "Python 3",
      "name": "python3"
    },
    "language_info": {
      "codemirror_mode": {
        "name": "ipython",
        "version": 3
      },
      "file_extension": ".py",
      "mimetype": "text/x-python",
      "name": "python",
      "nbconvert_exporter": "python",
      "pygments_lexer": "ipython3",
      "version": "3.10.9"
    }
  },
  "nbformat": 4,
  "nbformat_minor": 0
}
