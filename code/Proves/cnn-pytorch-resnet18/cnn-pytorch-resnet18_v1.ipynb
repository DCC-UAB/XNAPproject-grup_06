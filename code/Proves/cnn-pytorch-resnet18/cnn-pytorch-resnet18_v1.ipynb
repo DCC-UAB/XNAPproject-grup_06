{
  "nbformat": 4,
  "nbformat_minor": 0,
  "metadata": {
    "colab": {
      "provenance": [],
      "gpuType": "T4"
    },
    "kernelspec": {
      "name": "python3",
      "display_name": "Python 3"
    },
    "language_info": {
      "name": "python"
    },
    "accelerator": "GPU"
  },
  "cells": [
    {
      "cell_type": "markdown",
      "source": [
        "# CNN model using Pytorch"
      ],
      "metadata": {
        "id": "kztbjUPuPfjm"
      }
    },
    {
      "cell_type": "markdown",
      "source": [
        "## Import libraries"
      ],
      "metadata": {
        "id": "T1nBDlB1P8Qy"
      }
    },
    {
      "cell_type": "code",
      "execution_count": 1,
      "metadata": {
        "colab": {
          "base_uri": "https://localhost:8080/"
        },
        "id": "SE5vte74PN_1",
        "outputId": "73862705-269c-46d5-e741-128efe3d9f30"
      },
      "outputs": [
        {
          "output_type": "stream",
          "name": "stdout",
          "text": [
            "PyTorch Version:  2.3.0+cu121\n",
            "Torchvision Version:  0.18.0+cu121\n"
          ]
        }
      ],
      "source": [
        "from __future__ import print_function\n",
        "from __future__ import division\n",
        "import torch\n",
        "import torch.nn as nn\n",
        "import torch.optim as optim\n",
        "import numpy as np\n",
        "import pandas as pd\n",
        "import cv2\n",
        "import torchvision\n",
        "from torchvision import datasets, models, transforms\n",
        "from torch.utils.data import Subset, DataLoader\n",
        "from torch.utils.data import Dataset\n",
        "\n",
        "from PIL import Image\n",
        "from sklearn.preprocessing import LabelEncoder\n",
        "\n",
        "import matplotlib.pyplot as plt\n",
        "import time\n",
        "import os\n",
        "import copy\n",
        "print(\"PyTorch Version: \",torch.__version__)\n",
        "print(\"Torchvision Version: \",torchvision.__version__)\n",
        "\n",
        "device = torch.device(\"cuda:0\" if torch.cuda.is_available() else \"cpu\")\n",
        "\n",
        "%matplotlib inline"
      ]
    },
    {
      "cell_type": "markdown",
      "source": [
        "## Load the Data"
      ],
      "metadata": {
        "id": "zXRwSbtOPs-t"
      }
    },
    {
      "cell_type": "code",
      "source": [
        "!pip install kaggle\n",
        "!kaggle datasets download -d guare13/handwritten-letters-recognition\n",
        "!unzip handwritten-letters-recognition.zip"
      ],
      "metadata": {
        "colab": {
          "base_uri": "https://localhost:8080/"
        },
        "id": "-UpVNnaGPfJ7",
        "outputId": "b84c381d-8e2b-42be-f419-5cbb24f6bdc8"
      },
      "execution_count": 2,
      "outputs": [
        {
          "output_type": "stream",
          "name": "stdout",
          "text": [
            "Requirement already satisfied: kaggle in /usr/local/lib/python3.10/dist-packages (1.6.14)\n",
            "Requirement already satisfied: six>=1.10 in /usr/local/lib/python3.10/dist-packages (from kaggle) (1.16.0)\n",
            "Requirement already satisfied: certifi>=2023.7.22 in /usr/local/lib/python3.10/dist-packages (from kaggle) (2024.2.2)\n",
            "Requirement already satisfied: python-dateutil in /usr/local/lib/python3.10/dist-packages (from kaggle) (2.8.2)\n",
            "Requirement already satisfied: requests in /usr/local/lib/python3.10/dist-packages (from kaggle) (2.31.0)\n",
            "Requirement already satisfied: tqdm in /usr/local/lib/python3.10/dist-packages (from kaggle) (4.66.4)\n",
            "Requirement already satisfied: python-slugify in /usr/local/lib/python3.10/dist-packages (from kaggle) (8.0.4)\n",
            "Requirement already satisfied: urllib3 in /usr/local/lib/python3.10/dist-packages (from kaggle) (2.0.7)\n",
            "Requirement already satisfied: bleach in /usr/local/lib/python3.10/dist-packages (from kaggle) (6.1.0)\n",
            "Requirement already satisfied: webencodings in /usr/local/lib/python3.10/dist-packages (from bleach->kaggle) (0.5.1)\n",
            "Requirement already satisfied: text-unidecode>=1.3 in /usr/local/lib/python3.10/dist-packages (from python-slugify->kaggle) (1.3)\n",
            "Requirement already satisfied: charset-normalizer<4,>=2 in /usr/local/lib/python3.10/dist-packages (from requests->kaggle) (3.3.2)\n",
            "Requirement already satisfied: idna<4,>=2.5 in /usr/local/lib/python3.10/dist-packages (from requests->kaggle) (3.7)\n",
            "Dataset URL: https://www.kaggle.com/datasets/guare13/handwritten-letters-recognition\n",
            "License(s): CC0-1.0\n",
            "handwritten-letters-recognition.zip: Skipping, found more recently modified local copy (use --force to force download)\n",
            "Archive:  handwritten-letters-recognition.zip\n",
            "replace test_letters/letter_0.png? [y]es, [n]o, [A]ll, [N]one, [r]ename: "
          ]
        }
      ]
    },
    {
      "cell_type": "markdown",
      "source": [
        "## View Data"
      ],
      "metadata": {
        "id": "SGSjfu2VQLF5"
      }
    },
    {
      "cell_type": "code",
      "source": [
        "# Preparar el dataset\n",
        "train_data = pd.read_csv('written_letters_train.csv')\n",
        "valid_data = pd.read_csv('written_letters_validation.csv')"
      ],
      "metadata": {
        "id": "WfgT5KpYQMpV"
      },
      "execution_count": 3,
      "outputs": []
    },
    {
      "cell_type": "code",
      "source": [
        "plt.figure(figsize=(2.5, 3.5))\n",
        "\n",
        "for i in range(6):\n",
        "    ax = plt.subplot(2, 3, i+1)\n",
        "    img_dir = 'train_letters/'+train_data.loc[i, 'id']\n",
        "    image = cv2.imread(img_dir, cv2.IMREAD_GRAYSCALE)\n",
        "    plt.imshow(image, cmap = 'gray')\n",
        "    plt.title(train_data.loc[i, 'nombre'], fontsize=15)\n",
        "    plt.axis('off')\n",
        "\n",
        "plt.subplots_adjust(wspace=0.2, hspace=0.5)"
      ],
      "metadata": {
        "colab": {
          "base_uri": "https://localhost:8080/",
          "height": 302
        },
        "id": "bReLIR96Qc4y",
        "outputId": "3f4f93c0-ab76-4f0f-9f94-1136831e3223"
      },
      "execution_count": 4,
      "outputs": [
        {
          "output_type": "display_data",
          "data": {
            "text/plain": [
              "<Figure size 250x350 with 6 Axes>"
            ],
            "image/png": "[encoded data removed]"
          },
          "metadata": {}
        }
      ]
    },
    {
      "cell_type": "code",
      "source": [
        "print(\"Number of NaNs in train set      : \", train_data['nombre'].isnull().sum())\n",
        "print(\"Number of NaNs in validation set : \", valid_data['nombre'].isnull().sum())"
      ],
      "metadata": {
        "colab": {
          "base_uri": "https://localhost:8080/"
        },
        "id": "d6py6dU0QerY",
        "outputId": "b4171e01-0a13-41e9-dc50-29818bc4154a"
      },
      "execution_count": 5,
      "outputs": [
        {
          "output_type": "stream",
          "name": "stdout",
          "text": [
            "Number of NaNs in train set      :  0\n",
            "Number of NaNs in validation set :  0\n"
          ]
        }
      ]
    },
    {
      "cell_type": "code",
      "source": [
        "train_data.dropna(axis=0, inplace=True)\n",
        "valid_data.dropna(axis=0, inplace=True)"
      ],
      "metadata": {
        "id": "qYDrHtlBRFIU"
      },
      "execution_count": 6,
      "outputs": []
    },
    {
      "cell_type": "code",
      "source": [
        "train_data = train_data[train_data['nombre'] != 'UNREADABLE']\n",
        "valid_data = valid_data[valid_data['nombre'] != 'UNREADABLE']"
      ],
      "metadata": {
        "id": "yYWns45YROba"
      },
      "execution_count": 7,
      "outputs": []
    },
    {
      "cell_type": "code",
      "source": [
        "train_data['nombre'] = train_data['nombre'].str.upper()\n",
        "valid_data['nombre'] = valid_data['nombre'].str.upper()"
      ],
      "metadata": {
        "id": "-8duCMNERU-m"
      },
      "execution_count": 8,
      "outputs": []
    },
    {
      "cell_type": "code",
      "source": [
        "train_data.reset_index(inplace = True, drop=True)\n",
        "valid_data.reset_index(inplace = True, drop=True)"
      ],
      "metadata": {
        "id": "8Ocq4ZpGRZ03"
      },
      "execution_count": 9,
      "outputs": []
    },
    {
      "cell_type": "code",
      "source": [
        "letter_count = train_data['nombre'].value_counts()\n",
        "\n",
        "letter_count[:10].plot(kind='barh')\n",
        "plt.title('Distribució de lletres')\n",
        "plt.xlabel('Lletra')\n",
        "plt.ylabel('Quantitat de mostres')\n",
        "plt.show()\n",
        "\n",
        "print(letter_count[:10])"
      ],
      "metadata": {
        "colab": {
          "base_uri": "https://localhost:8080/",
          "height": 680
        },
        "id": "FDep04SoReaJ",
        "outputId": "95d972c9-dc81-4c82-fa75-f45e3d3c8727"
      },
      "execution_count": 10,
      "outputs": [
        {
          "output_type": "display_data",
          "data": {
            "text/plain": [
              "<Figure size 640x480 with 1 Axes>"
            ],
            "image/png": "[encoded data removed]"
          },
          "metadata": {}
        },
        {
          "output_type": "stream",
          "name": "stdout",
          "text": [
            "nombre\n",
            "A    21687\n",
            "E    18122\n",
            "L    14201\n",
            "N    10797\n",
            "O    10319\n",
            "R    10160\n",
            "U     9636\n",
            "I     8816\n",
            "S     5945\n",
            "C     5128\n",
            "Name: count, dtype: int64\n"
          ]
        }
      ]
    },
    {
      "cell_type": "markdown",
      "source": [
        "## Preprocessing Images for Training"
      ],
      "metadata": {
        "id": "mdGo5N33R0bE"
      }
    },
    {
      "cell_type": "code",
      "source": [
        "class HandwritingDataset(Dataset):\n",
        "    def __init__(self, root_dir, csv_file, transform=None):\n",
        "        self.root_dir = root_dir\n",
        "        self.df = pd.read_csv(csv_file)\n",
        "        self.transform = transform\n",
        "        self.label_encoder = LabelEncoder()\n",
        "        self.labels_encoded = self.label_encoder.fit_transform(self.df.iloc[:, 1])\n",
        "\n",
        "    def __len__(self):\n",
        "        return len(self.df)\n",
        "\n",
        "    def __getitem__(self, idx):\n",
        "        img_name = os.path.join(self.root_dir, self.df.iloc[idx, 0])\n",
        "        image = Image.open(img_name).convert(\"L\")  # Convert to grayscale\n",
        "        label = self.labels_encoded[idx]  # Use the encoded label\n",
        "\n",
        "        if self.transform:\n",
        "            image = self.transform(image)\n",
        "\n",
        "        return image, label"
      ],
      "metadata": {
        "id": "tKoN2kn2R5Qn"
      },
      "execution_count": 11,
      "outputs": []
    },
    {
      "cell_type": "code",
      "source": [
        "# Define transformations\n",
        "transform = transforms.Compose([\n",
        "    transforms.Resize((28, 28)),  # Resize images to a standard size\n",
        "    transforms.ToTensor(),  # Convert image to tensor\n",
        "])"
      ],
      "metadata": {
        "id": "HDxV0tt1TFcs"
      },
      "execution_count": 12,
      "outputs": []
    },
    {
      "cell_type": "code",
      "source": [
        "# Adjusting the size of train_data to 3000 samples\n",
        "train_data = train_data.sample(n=3000, random_state=42)\n",
        "\n",
        "# Adjusting the size of valid_data to 300 samples\n",
        "valid_data = valid_data.sample(n=300, random_state=42)"
      ],
      "metadata": {
        "id": "F7EM2dWgZvHr"
      },
      "execution_count": 13,
      "outputs": []
    },
    {
      "cell_type": "code",
      "source": [
        "train_dataset = HandwritingDataset(root_dir='train_letters/', csv_file=\"written_letters_train.csv\", transform=transform)\n",
        "valid_dataset = HandwritingDataset(root_dir='valid_letters/', csv_file=\"written_letters_validation.csv\", transform=transform)"
      ],
      "metadata": {
        "id": "tVZVSTUjTJNl"
      },
      "execution_count": 14,
      "outputs": []
    },
    {
      "cell_type": "code",
      "source": [
        "train_loader = DataLoader(train_dataset, batch_size=32, shuffle=True)\n",
        "valid_loader = DataLoader(valid_dataset, batch_size=32, shuffle=False)"
      ],
      "metadata": {
        "id": "kYYO0CfvUN0J"
      },
      "execution_count": 15,
      "outputs": []
    },
    {
      "cell_type": "markdown",
      "source": [
        "Verify de data loaders work correctly:"
      ],
      "metadata": {
        "id": "lDQa2w4VUY78"
      }
    },
    {
      "cell_type": "code",
      "source": [
        "for i, (images, labels) in enumerate(train_loader):\n",
        "    print(f\"Batch {i}:\")\n",
        "    print(images.shape)  # This will give you the shape of the batch of images\n",
        "    print(labels.shape)  # And this will give you the shape of the batch of labels\n",
        "    break  # Just to demonstrate, stop after the first batch"
      ],
      "metadata": {
        "colab": {
          "base_uri": "https://localhost:8080/"
        },
        "id": "-FDGZBznUd2M",
        "outputId": "f38f9307-e073-413e-a73f-f96fba001dc0"
      },
      "execution_count": 16,
      "outputs": [
        {
          "output_type": "stream",
          "name": "stdout",
          "text": [
            "Batch 0:\n",
            "torch.Size([32, 1, 28, 28])\n",
            "torch.Size([32])\n"
          ]
        }
      ]
    },
    {
      "cell_type": "markdown",
      "source": [
        "## Training function"
      ],
      "metadata": {
        "id": "S5dDH-CZWo2x"
      }
    },
    {
      "cell_type": "code",
      "source": [
        "def train_model(model, dataloaders, criterion, optimizer, num_epochs=25):\n",
        "    since = time.time()\n",
        "\n",
        "    acc_history = {\"train\": [], \"valid\": []}\n",
        "    losses = {\"train\": [], \"valid\": []}\n",
        "\n",
        "    # we will keep a copy of the best weights so far according to validation accuracy\n",
        "    best_model_wts = copy.deepcopy(model.state_dict())\n",
        "    best_acc = 0.0\n",
        "\n",
        "    for epoch in range(num_epochs):\n",
        "        print('Epoch {}/{}'.format(epoch, num_epochs - 1))\n",
        "        print('-' * 10)\n",
        "\n",
        "        # Each epoch has a training and validation phase\n",
        "        for phase in ['train', 'valid']:\n",
        "            if phase == 'train':\n",
        "                model.train()  # Set model to training mode\n",
        "            else:\n",
        "                model.eval()   # Set model to evaluate mode\n",
        "\n",
        "            running_loss = 0.0\n",
        "            running_corrects = 0\n",
        "\n",
        "            # Iterate over data.\n",
        "            for inputs, labels in dataloaders[phase]:\n",
        "                inputs = inputs.to(device)\n",
        "                labels = labels.to(device)\n",
        "\n",
        "                # zero the parameter gradients\n",
        "                optimizer.zero_grad()\n",
        "\n",
        "                # forward\n",
        "                # track history if only in train\n",
        "                with torch.set_grad_enabled(phase == 'train'):\n",
        "                    # Get model outputs and calculate loss\n",
        "                    outputs = model(inputs)\n",
        "                    loss = criterion(outputs, labels)\n",
        "                    losses[phase].append(loss)\n",
        "\n",
        "                    _, preds = torch.max(outputs, 1)\n",
        "\n",
        "                    # backward + optimize only if in training phase\n",
        "                    if phase == 'train':\n",
        "                        loss.backward()\n",
        "                        optimizer.step()\n",
        "\n",
        "                # statistics\n",
        "                running_loss += loss.item() * inputs.size(0)\n",
        "                running_corrects += torch.sum(preds == labels.data)\n",
        "\n",
        "            epoch_loss = running_loss / len(dataloaders[phase].dataset)\n",
        "            epoch_acc = running_corrects.double() / len(dataloaders[phase].dataset)\n",
        "\n",
        "            print('{} Loss: {:.4f} Acc: {:.4f}'.format(phase, epoch_loss, epoch_acc))\n",
        "\n",
        "            # deep copy the model\n",
        "            if phase == 'valid' and epoch_acc > best_acc:\n",
        "                best_acc = epoch_acc\n",
        "                best_model_wts = copy.deepcopy(model.state_dict())\n",
        "\n",
        "            acc_history[phase].append(epoch_acc)\n",
        "\n",
        "        print()\n",
        "\n",
        "    time_elapsed = time.time() - since\n",
        "    print('Training complete in {:.0f}m {:.0f}s'.format(time_elapsed // 60, time_elapsed % 60))\n",
        "    print('Best val Acc: {:4f}'.format(best_acc))\n",
        "\n",
        "    # load best model weights\n",
        "    model.load_state_dict(best_model_wts)\n",
        "    return model, acc_history, losses"
      ],
      "metadata": {
        "id": "5zrwZjs8WvmJ"
      },
      "execution_count": 17,
      "outputs": []
    },
    {
      "cell_type": "markdown",
      "source": [
        "## Initialize model"
      ],
      "metadata": {
        "id": "R1cI2BcAXraQ"
      }
    },
    {
      "cell_type": "code",
      "source": [
        "def initialize_model(num_classes):\n",
        "    # Resnet18\n",
        "    model = models.resnet18(pretrained = False)\n",
        "\n",
        "    model.conv1 = nn.Conv2d(1, 64, kernel_size=(7, 7), stride=(2, 2), padding=(3, 3), bias=False)\n",
        "\n",
        "    model.fc = nn.Linear(in_features=512, out_features=num_classes, bias=True) # YOUR CODE HERE!\n",
        "\n",
        "    input_size = 224\n",
        "\n",
        "    return model, input_size\n",
        "\n",
        "alphabets = u\"ABCDEFGHIJKLMNOPQRSTUVWXYZ-' \"\n",
        "# Number of classes in the dataset\n",
        "num_classes = len(alphabets) + 1 # +1 for ctc pseudo blank\n",
        "\n",
        "# Initialize the model\n",
        "model, input_size = initialize_model(num_classes)\n",
        "\n",
        "# Print the model we just instantiated\n",
        "print(model)"
      ],
      "metadata": {
        "colab": {
          "base_uri": "https://localhost:8080/"
        },
        "id": "66V3od_GXs3g",
        "outputId": "7618e49a-297a-4a4c-e431-aaf5156337bf"
      },
      "execution_count": 18,
      "outputs": [
        {
          "output_type": "stream",
          "name": "stdout",
          "text": [
            "ResNet(\n",
            "  (conv1): Conv2d(1, 64, kernel_size=(7, 7), stride=(2, 2), padding=(3, 3), bias=False)\n",
            "  (bn1): BatchNorm2d(64, eps=1e-05, momentum=0.1, affine=True, track_running_stats=True)\n",
            "  (relu): ReLU(inplace=True)\n",
            "  (maxpool): MaxPool2d(kernel_size=3, stride=2, padding=1, dilation=1, ceil_mode=False)\n",
            "  (layer1): Sequential(\n",
            "    (0): BasicBlock(\n",
            "      (conv1): Conv2d(64, 64, kernel_size=(3, 3), stride=(1, 1), padding=(1, 1), bias=False)\n",
            "      (bn1): BatchNorm2d(64, eps=1e-05, momentum=0.1, affine=True, track_running_stats=True)\n",
            "      (relu): ReLU(inplace=True)\n",
            "      (conv2): Conv2d(64, 64, kernel_size=(3, 3), stride=(1, 1), padding=(1, 1), bias=False)\n",
            "      (bn2): BatchNorm2d(64, eps=1e-05, momentum=0.1, affine=True, track_running_stats=True)\n",
            "    )\n",
            "    (1): BasicBlock(\n",
            "      (conv1): Conv2d(64, 64, kernel_size=(3, 3), stride=(1, 1), padding=(1, 1), bias=False)\n",
            "      (bn1): BatchNorm2d(64, eps=1e-05, momentum=0.1, affine=True, track_running_stats=True)\n",
            "      (relu): ReLU(inplace=True)\n",
            "      (conv2): Conv2d(64, 64, kernel_size=(3, 3), stride=(1, 1), padding=(1, 1), bias=False)\n",
            "      (bn2): BatchNorm2d(64, eps=1e-05, momentum=0.1, affine=True, track_running_stats=True)\n",
            "    )\n",
            "  )\n",
            "  (layer2): Sequential(\n",
            "    (0): BasicBlock(\n",
            "      (conv1): Conv2d(64, 128, kernel_size=(3, 3), stride=(2, 2), padding=(1, 1), bias=False)\n",
            "      (bn1): BatchNorm2d(128, eps=1e-05, momentum=0.1, affine=True, track_running_stats=True)\n",
            "      (relu): ReLU(inplace=True)\n",
            "      (conv2): Conv2d(128, 128, kernel_size=(3, 3), stride=(1, 1), padding=(1, 1), bias=False)\n",
            "      (bn2): BatchNorm2d(128, eps=1e-05, momentum=0.1, affine=True, track_running_stats=True)\n",
            "      (downsample): Sequential(\n",
            "        (0): Conv2d(64, 128, kernel_size=(1, 1), stride=(2, 2), bias=False)\n",
            "        (1): BatchNorm2d(128, eps=1e-05, momentum=0.1, affine=True, track_running_stats=True)\n",
            "      )\n",
            "    )\n",
            "    (1): BasicBlock(\n",
            "      (conv1): Conv2d(128, 128, kernel_size=(3, 3), stride=(1, 1), padding=(1, 1), bias=False)\n",
            "      (bn1): BatchNorm2d(128, eps=1e-05, momentum=0.1, affine=True, track_running_stats=True)\n",
            "      (relu): ReLU(inplace=True)\n",
            "      (conv2): Conv2d(128, 128, kernel_size=(3, 3), stride=(1, 1), padding=(1, 1), bias=False)\n",
            "      (bn2): BatchNorm2d(128, eps=1e-05, momentum=0.1, affine=True, track_running_stats=True)\n",
            "    )\n",
            "  )\n",
            "  (layer3): Sequential(\n",
            "    (0): BasicBlock(\n",
            "      (conv1): Conv2d(128, 256, kernel_size=(3, 3), stride=(2, 2), padding=(1, 1), bias=False)\n",
            "      (bn1): BatchNorm2d(256, eps=1e-05, momentum=0.1, affine=True, track_running_stats=True)\n",
            "      (relu): ReLU(inplace=True)\n",
            "      (conv2): Conv2d(256, 256, kernel_size=(3, 3), stride=(1, 1), padding=(1, 1), bias=False)\n",
            "      (bn2): BatchNorm2d(256, eps=1e-05, momentum=0.1, affine=True, track_running_stats=True)\n",
            "      (downsample): Sequential(\n",
            "        (0): Conv2d(128, 256, kernel_size=(1, 1), stride=(2, 2), bias=False)\n",
            "        (1): BatchNorm2d(256, eps=1e-05, momentum=0.1, affine=True, track_running_stats=True)\n",
            "      )\n",
            "    )\n",
            "    (1): BasicBlock(\n",
            "      (conv1): Conv2d(256, 256, kernel_size=(3, 3), stride=(1, 1), padding=(1, 1), bias=False)\n",
            "      (bn1): BatchNorm2d(256, eps=1e-05, momentum=0.1, affine=True, track_running_stats=True)\n",
            "      (relu): ReLU(inplace=True)\n",
            "      (conv2): Conv2d(256, 256, kernel_size=(3, 3), stride=(1, 1), padding=(1, 1), bias=False)\n",
            "      (bn2): BatchNorm2d(256, eps=1e-05, momentum=0.1, affine=True, track_running_stats=True)\n",
            "    )\n",
            "  )\n",
            "  (layer4): Sequential(\n",
            "    (0): BasicBlock(\n",
            "      (conv1): Conv2d(256, 512, kernel_size=(3, 3), stride=(2, 2), padding=(1, 1), bias=False)\n",
            "      (bn1): BatchNorm2d(512, eps=1e-05, momentum=0.1, affine=True, track_running_stats=True)\n",
            "      (relu): ReLU(inplace=True)\n",
            "      (conv2): Conv2d(512, 512, kernel_size=(3, 3), stride=(1, 1), padding=(1, 1), bias=False)\n",
            "      (bn2): BatchNorm2d(512, eps=1e-05, momentum=0.1, affine=True, track_running_stats=True)\n",
            "      (downsample): Sequential(\n",
            "        (0): Conv2d(256, 512, kernel_size=(1, 1), stride=(2, 2), bias=False)\n",
            "        (1): BatchNorm2d(512, eps=1e-05, momentum=0.1, affine=True, track_running_stats=True)\n",
            "      )\n",
            "    )\n",
            "    (1): BasicBlock(\n",
            "      (conv1): Conv2d(512, 512, kernel_size=(3, 3), stride=(1, 1), padding=(1, 1), bias=False)\n",
            "      (bn1): BatchNorm2d(512, eps=1e-05, momentum=0.1, affine=True, track_running_stats=True)\n",
            "      (relu): ReLU(inplace=True)\n",
            "      (conv2): Conv2d(512, 512, kernel_size=(3, 3), stride=(1, 1), padding=(1, 1), bias=False)\n",
            "      (bn2): BatchNorm2d(512, eps=1e-05, momentum=0.1, affine=True, track_running_stats=True)\n",
            "    )\n",
            "  )\n",
            "  (avgpool): AdaptiveAvgPool2d(output_size=(1, 1))\n",
            "  (fc): Linear(in_features=512, out_features=30, bias=True)\n",
            ")\n"
          ]
        },
        {
          "output_type": "stream",
          "name": "stderr",
          "text": [
            "/usr/local/lib/python3.10/dist-packages/torchvision/models/_utils.py:208: UserWarning: The parameter 'pretrained' is deprecated since 0.13 and may be removed in the future, please use 'weights' instead.\n",
            "  warnings.warn(\n",
            "/usr/local/lib/python3.10/dist-packages/torchvision/models/_utils.py:223: UserWarning: Arguments other than a weight enum or `None` for 'weights' are deprecated since 0.13 and may be removed in the future. The current behavior is equivalent to passing `weights=None`.\n",
            "  warnings.warn(msg)\n"
          ]
        }
      ]
    },
    {
      "cell_type": "markdown",
      "source": [
        "## Run Training and Validation"
      ],
      "metadata": {
        "id": "o7GKwYXRXw8f"
      }
    },
    {
      "cell_type": "code",
      "source": [
        "# Send the model to GPU\n",
        "model = model.to(device)\n",
        "\n",
        "# Setup the loss fxn\n",
        "criterion = nn.CrossEntropyLoss()\n",
        "\n",
        "# Number of epochs to train fors\n",
        "num_epochs = 15\n",
        "\n",
        "optimizer_ft = optim.Adam(model.parameters(), lr=0.00001)\n",
        "\n",
        "dataloaders_dict = {\"train\": train_loader, \"valid\": valid_loader}\n",
        "\n",
        "# Train and evaluate\n",
        "model, hist, losses = train_model(model, dataloaders_dict, criterion, optimizer_ft, num_epochs=num_epochs)"
      ],
      "metadata": {
        "colab": {
          "base_uri": "https://localhost:8080/"
        },
        "id": "RavznVybXzDU",
        "outputId": "34b738b6-8efe-441d-a8b9-aa2c7bd98436"
      },
      "execution_count": 19,
      "outputs": [
        {
          "output_type": "stream",
          "name": "stdout",
          "text": [
            "Epoch 0/14\n",
            "----------\n",
            "train Loss: 0.7841 Acc: 0.8022\n",
            "valid Loss: 0.4096 Acc: 0.9012\n",
            "\n",
            "Epoch 1/14\n",
            "----------\n",
            "train Loss: 0.3766 Acc: 0.9068\n",
            "valid Loss: 0.3462 Acc: 0.9193\n",
            "\n",
            "Epoch 2/14\n",
            "----------\n",
            "train Loss: 0.3081 Acc: 0.9259\n",
            "valid Loss: 0.3268 Acc: 0.9251\n",
            "\n",
            "Epoch 3/14\n",
            "----------\n",
            "train Loss: 0.2694 Acc: 0.9362\n",
            "valid Loss: 0.3169 Acc: 0.9274\n",
            "\n",
            "Epoch 4/14\n",
            "----------\n",
            "train Loss: 0.2374 Acc: 0.9441\n",
            "valid Loss: 0.3182 Acc: 0.9273\n",
            "\n",
            "Epoch 5/14\n",
            "----------\n",
            "train Loss: 0.2106 Acc: 0.9496\n",
            "valid Loss: 0.3194 Acc: 0.9289\n",
            "\n",
            "Epoch 6/14\n",
            "----------\n",
            "train Loss: 0.1866 Acc: 0.9555\n",
            "valid Loss: 0.3258 Acc: 0.9273\n",
            "\n",
            "Epoch 7/14\n",
            "----------\n",
            "train Loss: 0.1642 Acc: 0.9603\n",
            "valid Loss: 0.3321 Acc: 0.9290\n",
            "\n",
            "Epoch 8/14\n",
            "----------\n",
            "train Loss: 0.1421 Acc: 0.9648\n",
            "valid Loss: 0.3404 Acc: 0.9273\n",
            "\n",
            "Epoch 9/14\n",
            "----------\n",
            "train Loss: 0.1243 Acc: 0.9683\n",
            "valid Loss: 0.3527 Acc: 0.9280\n",
            "\n",
            "Epoch 10/14\n",
            "----------\n",
            "train Loss: 0.1097 Acc: 0.9716\n",
            "valid Loss: 0.3675 Acc: 0.9272\n",
            "\n",
            "Epoch 11/14\n",
            "----------\n",
            "train Loss: 0.0965 Acc: 0.9746\n",
            "valid Loss: 0.3792 Acc: 0.9265\n",
            "\n",
            "Epoch 12/14\n",
            "----------\n",
            "train Loss: 0.0854 Acc: 0.9773\n",
            "valid Loss: 0.3979 Acc: 0.9255\n",
            "\n",
            "Epoch 13/14\n",
            "----------\n",
            "train Loss: 0.0762 Acc: 0.9794\n",
            "valid Loss: 0.4010 Acc: 0.9247\n",
            "\n",
            "Epoch 14/14\n",
            "----------\n",
            "train Loss: 0.0697 Acc: 0.9812\n",
            "valid Loss: 0.4126 Acc: 0.9250\n",
            "\n",
            "Training complete in 38m 27s\n",
            "Best val Acc: 0.928958\n"
          ]
        }
      ]
    },
    {
      "cell_type": "code",
      "source": [
        "torch.save(model.state_dict(), 'cnn_model_v1.pth')"
      ],
      "metadata": {
        "id": "6zDxV5tto7nA"
      },
      "execution_count": 20,
      "outputs": []
    },
    {
      "cell_type": "code",
      "source": [
        "# plot the losses and accuracies\n",
        "train_losses = [loss.cpu().detach().numpy() for loss in losses[\"train\"]]\n",
        "val_losses = [loss.cpu().detach().numpy() for loss in losses[\"valid\"]]\n",
        "\n",
        "fig, (ax1, ax2) = plt.subplots(1, 2, figsize=(16, 6))\n",
        "\n",
        "# Plot the training and validation losses\n",
        "ax1.plot(train_losses, label='Training loss')\n",
        "ax1.plot(val_losses, label='Validation loss')\n",
        "ax1.set_title('Loss over epochs')\n",
        "ax1.set_xlabel('Epochs')\n",
        "ax1.set_ylabel('Loss')\n",
        "ax1.legend()\n",
        "\n",
        "# Plot the training and validation accuracies\n",
        "ax2.plot([acc.cpu().detach().numpy() for acc in hist['train']], label='Training accuracy')\n",
        "ax2.plot([acc.cpu().detach().numpy() for acc in hist['valid']], label='Validation accuracy')\n",
        "ax2.set_title('Accuracy over epochs')\n",
        "ax2.set_xlabel('Epochs')\n",
        "ax2.set_ylabel('Accuracy')\n",
        "ax2.legend()\n",
        "\n",
        "plt.show()"
      ],
      "metadata": {
        "colab": {
          "base_uri": "https://localhost:8080/",
          "height": 466
        },
        "id": "2rMTGtVVnVnB",
        "outputId": "108a93d7-38a2-4aeb-b8ec-f5eb9f25d9f8"
      },
      "execution_count": 21,
      "outputs": [
        {
          "output_type": "display_data",
          "data": {
            "text/plain": [
              "<Figure size 1600x600 with 2 Axes>"
            ],
            "image/png": "[encoded data removed]"
          },
          "metadata": {}
        }
      ]
    }
  ]
}
