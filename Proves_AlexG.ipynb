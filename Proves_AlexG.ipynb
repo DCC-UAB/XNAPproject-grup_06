{
 "cells": [
  {
   "cell_type": "code",
   "execution_count": 27,
   "metadata": {},
   "outputs": [],
   "source": [
    "import os\n",
    "import cv2\n",
    "import random\n",
    "import numpy as np\n",
    "import pandas as pd\n",
    "import matplotlib.pyplot as plt\n",
    "\n",
    "import tensorflow as tf\n",
    "from keras import backend as K\n",
    "from keras.models import Model\n",
    "from keras.layers import Input, Conv2D, MaxPooling2D, Reshape, Bidirectional, LSTM, Dense, Lambda, Activation, BatchNormalization, Dropout\n",
    "from keras.optimizers import Adam\n",
    "\n",
    "\n",
    "import imghdr\n",
    "import keras\n",
    "import keras.layers as L\n",
    "import keras.models as M\n",
    "import pandas as pd\n",
    "import matplotlib.pyplot as plt\n",
    "import numpy as np\n",
    "from sklearn.preprocessing import LabelBinarizer\n",
    "from itertools import chain\n",
    "from PIL import Image\n",
    "from keras.utils import Sequence"
   ]
  },
  {
   "cell_type": "code",
   "execution_count": 11,
   "metadata": {},
   "outputs": [
    {
     "name": "stdout",
     "output_type": "stream",
     "text": [
      "Directorio de trabajo actual: /home/xnmaster/XN_Grup6/XNAPproject-grup_06\n"
     ]
    }
   ],
   "source": [
    "\n",
    "directorio_actual = os.getcwd()\n",
    "print(\"Directorio de trabajo actual:\", directorio_actual)"
   ]
  },
  {
   "cell_type": "code",
   "execution_count": 15,
   "metadata": {},
   "outputs": [
    {
     "data": {
      "text/plain": [
       "(          FILENAME   IDENTITY\n",
       " 0  TRAIN_00001.jpg  BALTHAZAR\n",
       " 1  TRAIN_00002.jpg      SIMON\n",
       " 2  TRAIN_00003.jpg      BENES\n",
       " 3  TRAIN_00004.jpg    LA LOVE\n",
       " 4  TRAIN_00005.jpg     DAPHNE\n",
       " 5  TRAIN_00006.jpg      LUCIE,\n",
       "               FILENAME    IDENTITY\n",
       " 0  VALIDATION_0001.jpg       BILEL\n",
       " 1  VALIDATION_0002.jpg  LAUMIONIER\n",
       " 2  VALIDATION_0003.jpg         LEA\n",
       " 3  VALIDATION_0004.jpg   JEAN-ROCH\n",
       " 4  VALIDATION_0005.jpg        RUPP\n",
       " 5  VALIDATION_0006.jpg  UNREADABLE)"
      ]
     },
     "execution_count": 15,
     "metadata": {},
     "output_type": "execute_result"
    }
   ],
   "source": [
    "train = pd.read_csv('/home/xnmaster/XN_Grup6/written_name_train_v2.csv')\n",
    "test = pd.read_csv('/home/xnmaster/XN_Grup6/written_name_validation_v2.csv')\n",
    "train_img_dir = '/home/xnmaster/XN_Grup6/train_v2/train'\n",
    "test_img_dir = '/home/xnmaster/XN_Grup6/validation_v2/validation'\n",
    "train.head(6), test.head(6)"
   ]
  },
  {
   "cell_type": "code",
   "execution_count": 16,
   "metadata": {},
   "outputs": [
    {
     "name": "stdout",
     "output_type": "stream",
     "text": [
      "Tain set:  330961\n",
      "UNREADABLE in train set :  565\n",
      "Test set:  41370\n",
      "UNREADABLE in validation set :  78\n"
     ]
    }
   ],
   "source": [
    "print(\"Tain set: \",train['IDENTITY'].shape[0])\n",
    "print(\"UNREADABLE in train set : \", train['IDENTITY'].isnull().sum())\n",
    "print(\"Test set: \", test['IDENTITY'].shape[0])\n",
    "print(\"UNREADABLE in validation set : \", test['IDENTITY'].isnull().sum())"
   ]
  },
  {
   "cell_type": "code",
   "execution_count": 17,
   "metadata": {},
   "outputs": [
    {
     "name": "stdout",
     "output_type": "stream",
     "text": [
      "train: 330294  test: 41280\n"
     ]
    }
   ],
   "source": [
    "train = train[train['IDENTITY'] != 'UNREADABLE'] #treure columnes amb imatges que no es pot llegir el contingut \n",
    "train = train.dropna()\n",
    "train['IDENTITY'] = train['IDENTITY'].str.upper()\n",
    "test = test[test['IDENTITY'] != 'UNREADABLE'] #treure columnes amb imatges que no es pot llegir el contingut \n",
    "test = test.dropna()\n",
    "train['IDENTITY'] = train['IDENTITY'].str.upper()\n",
    "print(\"train:\",train.shape[0],\" test:\",test.shape[0])"
   ]
  },
  {
   "cell_type": "code",
   "execution_count": 18,
   "metadata": {},
   "outputs": [],
   "source": [
    "characters=set()\n",
    "train['IDENTITY']=train['IDENTITY'].apply(lambda x: str(x))\n",
    "for i in train['IDENTITY'].values:\n",
    "    for j in i :\n",
    "        if j not in characters :\n",
    "            characters.add(j)\n",
    "characters=sorted(characters)"
   ]
  },
  {
   "cell_type": "code",
   "execution_count": 19,
   "metadata": {},
   "outputs": [],
   "source": [
    "def to_binary(image):\n",
    "    image = cv2.resize(cv2.cvtColor(image, cv2.COLOR_BGR2RGB),dsize=(284,62)) #convertir la imatge de BGR a RGB i redimensionarla\n",
    "    image_gray = cv2.cvtColor(image, cv2.COLOR_BGR2GRAY) #convertir la imatge a escala de grisos\n",
    "    (thresh, image_binary) = cv2.threshold(image_gray, 128, 255, cv2.THRESH_BINARY | cv2.THRESH_OTSU) #aplicar un umbral per separar els pixels de primer pla i de fons de manera òptima\n",
    "    image_binary = cv2.threshold(image_gray, thresh, 255, cv2.THRESH_BINARY)[1] #aplicar novament un unmbral per asegurar una imatge binaria clara\n",
    "    image_binary = image_binary / 255 #dividir els valors del pixels entre 255 per obtenir valors de 0 o 1\n",
    "    return image_binary"
   ]
  },
  {
   "cell_type": "code",
   "execution_count": 20,
   "metadata": {},
   "outputs": [],
   "source": [
    "def preprocess_data(data, img_dir):\n",
    "    data_img = [] #emmagatzemar imatges \n",
    "    data_idt = [] #emmagatzemar identitat de les imatges \n",
    "    #for i in range(data.shape[0]): #it's take too longe to do all images\n",
    "    for i in range(1000):\n",
    "        image_filename = data['FILENAME'].iloc[i] #exreure el nom de l'arxiu de la imatge \n",
    "        image_path = os.path.join(img_dir,image_filename) #concatenar el directori de les imatges d'entrenament amb el nom d'arxiu per obtenir la ruta completa de la imatge\n",
    "        image = cv2.imread(image_path) #llegir la imatge\n",
    "        image = to_binary(image) #aplicar funció anterior per convertir la imatge a binari\n",
    "        data_img.append(image) #afegir la imatge binaria a la llista \n",
    "        data_idt.append(data['IDENTITY'].iloc[i]) #afegir la identitat de la imatge"
   ]
  },
  {
   "cell_type": "code",
   "execution_count": 21,
   "metadata": {},
   "outputs": [],
   "source": [
    "train_data_img = [] #emmagatzemar imatges entrenament\n",
    "train_data_idt = [] #emmagatzemar identitat de les imatges entrenament\n",
    "#for i in range(test.shape[0]):   #it's take too longe to do all images\n",
    "for i in range(1000): #iterar els primers 1000 exemples del conjunt d'entrenament\n",
    "    image_filename = train['FILENAME'].iloc[i] #exreure el nom de l'arxiu de la imatge \n",
    "    image_path = os.path.join(train_img_dir,image_filename) #concatenar el directori de les imatges d'entrenament amb el nom d'arxiu per obtenir la ruta completa de la imatge\n",
    "    image = cv2.imread(image_path) #llegir la imatge\n",
    "    image = to_binary(image) #aplicar funció anterior per convertir la imatge a binari\n",
    "    train_data_img.append(image) #afegir la imatge binaria a la llista \n",
    "    train_data_idt.append(train['IDENTITY'].iloc[i]) #afegir la identitat de la imatge "
   ]
  },
  {
   "cell_type": "code",
   "execution_count": 22,
   "metadata": {},
   "outputs": [],
   "source": [
    "test_data_img = []\n",
    "test_data_idt = []\n",
    "#for i in range(test.shape[0]):\n",
    "for i in range(1000):\n",
    "    image_filename = test['FILENAME'].iloc[i]\n",
    "    image_path = os.path.join(test_img_dir,image_filename)\n",
    "    image = cv2.imread(image_path)\n",
    "    image = to_binary(image)\n",
    "    test_data_img.append(image)\n",
    "    test_data_idt.append(test['IDENTITY'].iloc[i])  "
   ]
  },
  {
   "cell_type": "code",
   "execution_count": 23,
   "metadata": {},
   "outputs": [],
   "source": [
    "test_data_img = []\n",
    "test_data_idt = []\n",
    "#for i in range(test.shape[0]):\n",
    "for i in range(1000):\n",
    "    image_filename = test['FILENAME'].iloc[i]\n",
    "    image_path = os.path.join(test_img_dir,image_filename)\n",
    "    image = cv2.imread(image_path)\n",
    "    image = to_binary(image)\n",
    "    test_data_img.append(image)\n",
    "    test_data_idt.append(test['IDENTITY'].iloc[i])"
   ]
  },
  {
   "cell_type": "code",
   "execution_count": 24,
   "metadata": {},
   "outputs": [
    {
     "name": "stdout",
     "output_type": "stream",
     "text": [
      "BALTHAZAR\n",
      "(62, 284)\n"
     ]
    },
    {
     "data": {
      "image/png": "[encoded data removed]",
      "text/plain": [
       "<Figure size 640x480 with 1 Axes>"
      ]
     },
     "metadata": {},
     "output_type": "display_data"
    },
    {
     "name": "stdout",
     "output_type": "stream",
     "text": [
      "SIMON\n",
      "(62, 284)\n"
     ]
    },
    {
     "data": {
      "image/png": "[encoded data removed]",
      "text/plain": [
       "<Figure size 640x480 with 1 Axes>"
      ]
     },
     "metadata": {},
     "output_type": "display_data"
    },
    {
     "name": "stdout",
     "output_type": "stream",
     "text": [
      "BENES\n",
      "(62, 284)\n"
     ]
    },
    {
     "data": {
      "image/png": "[encoded data removed]",
      "text/plain": [
       "<Figure size 640x480 with 1 Axes>"
      ]
     },
     "metadata": {},
     "output_type": "display_data"
    },
    {
     "name": "stdout",
     "output_type": "stream",
     "text": [
      "BILEL\n",
      "(62, 284)\n"
     ]
    },
    {
     "data": {
      "image/png": "[encoded data removed]",
      "text/plain": [
       "<Figure size 640x480 with 1 Axes>"
      ]
     },
     "metadata": {},
     "output_type": "display_data"
    },
    {
     "name": "stdout",
     "output_type": "stream",
     "text": [
      "LAUMIONIER\n",
      "(62, 284)\n"
     ]
    },
    {
     "data": {
      "image/png": "[encoded data removed]",
      "text/plain": [
       "<Figure size 640x480 with 1 Axes>"
      ]
     },
     "metadata": {},
     "output_type": "display_data"
    },
    {
     "name": "stdout",
     "output_type": "stream",
     "text": [
      "LEA\n",
      "(62, 284)\n"
     ]
    },
    {
     "data": {
      "image/png": "[encoded data removed]",
      "text/plain": [
       "<Figure size 640x480 with 1 Axes>"
      ]
     },
     "metadata": {},
     "output_type": "display_data"
    }
   ],
   "source": [
    "for i in range(3):\n",
    "    print(train_data_idt[i]) #imprimir una identitat associada a una imatge\n",
    "    print(train_data_img[i].shape) #imprimir la forma de la imatge\n",
    "    plt.imshow(train_data_img[i],cmap='gray') #mostrar la imatge en escala de grisos (binari)\n",
    "    plt.axis('off')\n",
    "    plt.show()\n",
    "for i in range(3):\n",
    "    print(test_data_idt[i])\n",
    "    print(test_data_img[i].shape)\n",
    "    plt.imshow(test_data_img[i],cmap='gray')\n",
    "    plt.axis('off')\n",
    "    plt.show()"
   ]
  },
  {
   "cell_type": "code",
   "execution_count": 25,
   "metadata": {},
   "outputs": [
    {
     "name": "stdout",
     "output_type": "stream",
     "text": [
      "['D', \"'\", 'N', 'Q', 'C', 'O', 'G', 'T', 'X', 'I', 'L', 'S', 'P', ' ', 'H', 'Z', 'W', '-', 'J', 'B', 'Y', 'A', 'E', 'M', 'R', 'K', 'F', 'U', 'V']\n",
      "29\n"
     ]
    }
   ],
   "source": [
    "all_data = train_data_idt + test_data_idt #concatenar les llistes train i test creades anteriorment en una sol\n",
    "# Concatenate names into a single string\n",
    "all_characters = ''.join(all_data)\n",
    "\n",
    "# Create a set to get unique characters\n",
    "unique_characters_set = set(all_characters) #eliminar duplicats\n",
    "\n",
    "# Convert the set back to a list if needed\n",
    "unique_characters_list = list(unique_characters_set)\n",
    "\n",
    "print(unique_characters_list)\n",
    "print(len(unique_characters_list))"
   ]
  },
  {
   "cell_type": "code",
   "execution_count": 28,
   "metadata": {},
   "outputs": [],
   "source": [
    "lb = LabelBinarizer() #crear una instancia de la classe 'LabelBinarizer'\n",
    "lb.fit(unique_characters_list) #ajustar la instancia als caràcters únics presents en les entitats i construir una codificació binaria per cada un\n",
    "lb.classes_ #proporcionar una llista oredenada dles caràcters únics\n",
    "dec = {} #diccionari que s'utilitza per mapejar cada caràcter únic a la seva corresponent codificació binaria\n",
    "for i in range(len(unique_characters_list)): #iteració sobre la llista de caràcters únics \n",
    "    if unique_characters_list[i] in dec.keys(): #verificació si ja existeixen al diccionari\n",
    "        pass\n",
    "    else: #si no existeixen \n",
    "        a = lb.transform([unique_characters_list[i]]) #obtindre la codificació binaria del caràcter actual\n",
    "        a = list(chain(*a)) #flattened_list from [[....]] to []\n",
    "        dec[unique_characters_list[i]]= a #assignar la codificació binaria al diccionari, abm el caràcter coma clau i la codificació com a valor\n",
    "        "
   ]
  },
  {
   "cell_type": "code",
   "execution_count": 29,
   "metadata": {},
   "outputs": [
    {
     "name": "stdout",
     "output_type": "stream",
     "text": [
      "train data longest word :\n",
      "19\n",
      "DI - BIN - LOMBARDI\n",
      "\n",
      "test data longest word :\n",
      "16\n",
      "BELMERROUBICARRO\n"
     ]
    }
   ],
   "source": [
    "print(\"train data longest word :\")\n",
    "length_of_longest_word_in_train = len(max(train_data_idt, key=len)) #trobar la llargada de la paraula més llarga en termes de longitud de caràcters en el conjunt d'entrenament\n",
    "print(length_of_longest_word_in_train)\n",
    "word_with_longest_characters = max(train_data_idt, key=len) #trobar la paraula més llarga en termes de longitud de caràcters en el conjunt d'entrenament\n",
    "print(word_with_longest_characters)\n",
    "print()\n",
    "print(\"test data longest word :\")\n",
    "length_of_longest_word_in_test = len(max(test_data_idt, key=len)) #trobar la llargada de la paraula més llarga en termes de longitud de caràcters en el conjunt de prova\n",
    "print(length_of_longest_word_in_test)\n",
    "word_with_longest_characters = max(test_data_idt, key=len) #trobar la paraula més llarga en termes de longitud de caràcters en el conjunt de prova\n",
    "print(word_with_longest_characters)"
   ]
  },
  {
   "cell_type": "code",
   "execution_count": 30,
   "metadata": {},
   "outputs": [
    {
     "name": "stdout",
     "output_type": "stream",
     "text": [
      "(1000, 19, 29)\n",
      "(1000, 19, 29)\n"
     ]
    }
   ],
   "source": [
    "# Function to convert a name to a list of vectors using the dictionary\n",
    "def name_to_vectors(name,max_len,num_char):\n",
    "    zeros_list = [0] * num_char #crear llista longitud catàcters únics \n",
    "    num_vec_to_add = max_len - len(name) #calcular el nombre de vectors que falta afegir per arribar a la longitud màxima\n",
    "    list_vc_name = [dec[char] for char in name] #iteracio sobre cada caràcter per obtenir la corresponent codificació binaria\n",
    "    \n",
    "    for i in range(num_vec_to_add):\n",
    "        list_vc_name.append(zeros_list) #afegir tants vectors de zeros com vectors falten\n",
    "    return list_vc_name\n",
    "\n",
    "# Creating a list of vectors for each name\n",
    "vectors_list_train_idt = [name_to_vectors(name, length_of_longest_word_in_train, len(unique_characters_list)) for name in train_data_idt] # for train data\n",
    "vectors_list_test_idt = [name_to_vectors(name, length_of_longest_word_in_train, len(unique_characters_list)) for name in test_data_idt] # for test data \n",
    "\n",
    "#for name, vectors in zip(names, vectors_list):\n",
    "    #print(f\"{name}: {vectors}\")\n",
    "vectors_list_train_idt = np.array(vectors_list_train_idt) #change from list to numpy array\n",
    "vectors_list_test_idt = np.array(vectors_list_test_idt)\n",
    "\n",
    "print(vectors_list_train_idt.shape)\n",
    "print(vectors_list_test_idt.shape)"
   ]
  },
  {
   "cell_type": "code",
   "execution_count": 32,
   "metadata": {},
   "outputs": [
    {
     "name": "stdout",
     "output_type": "stream",
     "text": [
      "(1000, 62, 284, 1) (1000, 19, 29)\n",
      "(1000, 62, 284, 1) (1000, 19, 29)\n"
     ]
    }
   ],
   "source": [
    "#LB = LabelBinarizer()\n",
    "#train_data_idt = LB.fit_transform(train_data_idt)\n",
    "#test_data_idt = LB.fit_transform(test_data_idt)\n",
    "#print(test_data_idt[0:5])\n",
    "\n",
    "train_data_img = np.array(train_data_img) #convertir de llista a matriu de imatges\n",
    "train_data_img = train_data_img.reshape(-1,62,284,1) #canviar la forma de la matriu de imatges \n",
    "\n",
    "test_data_img = np.array(test_data_img)\n",
    "test_data_img = test_data_img.reshape(-1,62,284,1)\n",
    "\n",
    "#train_data_idt = np.array(train_data_idt)\n",
    "#test_data_idt = np.array(test_data_idt)\n",
    "\n",
    "#print(type(train_data_idt[1]), type(test_data_idt))\n",
    "print(train_data_img.shape,vectors_list_train_idt.shape)\n",
    "print(test_data_img.shape,vectors_list_test_idt.shape)"
   ]
  },
  {
   "cell_type": "code",
   "execution_count": 33,
   "metadata": {},
   "outputs": [],
   "source": [
    "from tensorflow.keras.models import Sequential\n",
    "from tensorflow.keras.layers import Conv2D, MaxPooling2D, Dense, Flatten, Dropout"
   ]
  },
  {
   "cell_type": "code",
   "execution_count": 34,
   "metadata": {},
   "outputs": [
    {
     "name": "stderr",
     "output_type": "stream",
     "text": [
      "2024-05-12 21:50:51.069713: I tensorflow/core/platform/cpu_feature_guard.cc:193] This TensorFlow binary is optimized with oneAPI Deep Neural Network Library (oneDNN) to use the following CPU instructions in performance-critical operations:  AVX2 FMA\n",
      "To enable them in other operations, rebuild TensorFlow with the appropriate compiler flags.\n",
      "2024-05-12 21:51:00.624471: I tensorflow/core/common_runtime/gpu/gpu_device.cc:1613] Created device /job:localhost/replica:0/task:0/device:GPU:0 with 14235 MB memory:  -> device: 0, name: Tesla V100-PCIE-16GB, pci bus id: 0001:00:00.0, compute capability: 7.0\n"
     ]
    }
   ],
   "source": [
    "model = Sequential() #crear una instància del model Sequencial (per crear una pila lineal de capas de xarxes neuronals)\n",
    "\n",
    "model.add(Conv2D(16, (3, 3), 1, activation='relu', input_shape=(62,284,1))) #afegir una capa Conv2D al model. S'utilitza per aplicar filtres a les imatges d'entrada per extreure característiques importants\n",
    "model.add(MaxPooling2D()) #afegir capa de MaxPooling2D al model. S'utilitza per reduir la mida espacial de la sortida de la capa convolucional anterior\n",
    "\n",
    "model.add(Conv2D(32, (3,3), 1, activation='relu')) \n",
    "model.add(MaxPooling2D())\n",
    "\n",
    "model.add(Conv2D(16, (3,3), 1, activation='relu'))\n",
    "model.add(MaxPooling2D())\n",
    "\n",
    "model.add(Flatten()) #afegir una capa Flatten al model. S'utilitza per convertir els mapas de caracterítiques de les capes convolucionals a un vector unidimensional per que puguin ser alimentats a les capes densament conectades\n",
    "model.add(Dense(256, activation='relu')) #afegir una capa Dense al model amb 256 unitats i activació ReLU. Es una capa completament conectada que te conexions entre cada unitat en la capa anterior i cada unitat d'aquesta capa\n",
    "model.add(Dense(len(unique_characters_list), activation='softmax')) #afegir una capa Dense de sortida amb un numero d'unitats igual al nombre de caracters únics a les dades i la funció d'activacio softmax. S'utilitza per generar la distribució de probabilitat sobre les classes possibles a la sortida del model"
   ]
  },
  {
   "cell_type": "code",
   "execution_count": 35,
   "metadata": {},
   "outputs": [],
   "source": [
    "model.compile(optimizer='adam', loss='categorical_crossentropy', metrics=['accuracy'])\n",
    "#compilar el model de xarxa neuronal definit anteriorment \n",
    "#optimizer='adam': algorisme per entrenar xarxes neuronals. Ajusta els pesos de la xarxa durant l'entrenament per minimitzar funció de pèrdua\n",
    "#loss='categorical_crossentropy': funció de pèrdua utilitzada per problemes de classificació amb múltiples classes. Cada exemple pot pertanyer nomes auna classe \n",
    "#metrics=['accuracy']: la mètrica precisió s'utilitza per evaluar el rendiment del model en el conjunt d'entrenament"
   ]
  },
  {
   "cell_type": "code",
   "execution_count": 36,
   "metadata": {},
   "outputs": [
    {
     "name": "stdout",
     "output_type": "stream",
     "text": [
      "Model: \"sequential\"\n",
      "_________________________________________________________________\n",
      " Layer (type)                Output Shape              Param #   \n",
      "=================================================================\n",
      " conv2d (Conv2D)             (None, 60, 282, 16)       160       \n",
      "                                                                 \n",
      " max_pooling2d (MaxPooling2D  (None, 30, 141, 16)      0         \n",
      " )                                                               \n",
      "                                                                 \n",
      " conv2d_1 (Conv2D)           (None, 28, 139, 32)       4640      \n",
      "                                                                 \n",
      " max_pooling2d_1 (MaxPooling  (None, 14, 69, 32)       0         \n",
      " 2D)                                                             \n",
      "                                                                 \n",
      " conv2d_2 (Conv2D)           (None, 12, 67, 16)        4624      \n",
      "                                                                 \n",
      " max_pooling2d_2 (MaxPooling  (None, 6, 33, 16)        0         \n",
      " 2D)                                                             \n",
      "                                                                 \n",
      " flatten (Flatten)           (None, 3168)              0         \n",
      "                                                                 \n",
      " dense (Dense)               (None, 256)               811264    \n",
      "                                                                 \n",
      " dense_1 (Dense)             (None, 29)                7453      \n",
      "                                                                 \n",
      "=================================================================\n",
      "Total params: 828,141\n",
      "Trainable params: 828,141\n",
      "Non-trainable params: 0\n",
      "_________________________________________________________________\n"
     ]
    }
   ],
   "source": [
    "model.summary()\n",
    "#imprimir un resum de l'arquitectura i els paràmetres del model de xarxes neuronal"
   ]
  },
  {
   "cell_type": "code",
   "execution_count": 37,
   "metadata": {},
   "outputs": [
    {
     "name": "stdout",
     "output_type": "stream",
     "text": [
      "train_data_img shape: (1000, 62, 284, 1)\n",
      "vectors_list_train_idt shape: (1000, 19, 29)\n",
      "test_data_img shape: (1000, 62, 284, 1)\n",
      "vectors_list_test_idt shape: (1000, 19, 29)\n"
     ]
    }
   ],
   "source": [
    "print(\"train_data_img shape:\", train_data_img.shape)\n",
    "print(\"vectors_list_train_idt shape:\", vectors_list_train_idt.shape)\n",
    "\n",
    "print(\"test_data_img shape:\", test_data_img.shape)\n",
    "print(\"vectors_list_test_idt shape:\", vectors_list_test_idt.shape)"
   ]
  },
  {
   "cell_type": "code",
   "execution_count": 41,
   "metadata": {},
   "outputs": [
    {
     "name": "stdout",
     "output_type": "stream",
     "text": [
      "Epoch 1/20\n"
     ]
    },
    {
     "ename": "ValueError",
     "evalue": "in user code:\n\n    File \"/anaconda/envs/py38_default/lib/python3.8/site-packages/keras/engine/training.py\", line 1249, in train_function  *\n        return step_function(self, iterator)\n    File \"/anaconda/envs/py38_default/lib/python3.8/site-packages/keras/engine/training.py\", line 1233, in step_function  **\n        outputs = model.distribute_strategy.run(run_step, args=(data,))\n    File \"/anaconda/envs/py38_default/lib/python3.8/site-packages/keras/engine/training.py\", line 1222, in run_step  **\n        outputs = model.train_step(data)\n    File \"/anaconda/envs/py38_default/lib/python3.8/site-packages/keras/engine/training.py\", line 1024, in train_step\n        loss = self.compute_loss(x, y, y_pred, sample_weight)\n    File \"/anaconda/envs/py38_default/lib/python3.8/site-packages/keras/engine/training.py\", line 1082, in compute_loss\n        return self.compiled_loss(\n    File \"/anaconda/envs/py38_default/lib/python3.8/site-packages/keras/engine/compile_utils.py\", line 265, in __call__\n        loss_value = loss_obj(y_t, y_p, sample_weight=sw)\n    File \"/anaconda/envs/py38_default/lib/python3.8/site-packages/keras/losses.py\", line 152, in __call__\n        losses = call_fn(y_true, y_pred)\n    File \"/anaconda/envs/py38_default/lib/python3.8/site-packages/keras/losses.py\", line 284, in call  **\n        return ag_fn(y_true, y_pred, **self._fn_kwargs)\n    File \"/anaconda/envs/py38_default/lib/python3.8/site-packages/keras/losses.py\", line 2004, in categorical_crossentropy\n        return backend.categorical_crossentropy(\n    File \"/anaconda/envs/py38_default/lib/python3.8/site-packages/keras/backend.py\", line 5532, in categorical_crossentropy\n        target.shape.assert_is_compatible_with(output.shape)\n\n    ValueError: Shapes (8, 551) and (8, 29) are incompatible\n",
     "output_type": "error",
     "traceback": [
      "\u001b[0;31m---------------------------------------------------------------------------\u001b[0m",
      "\u001b[0;31mValueError\u001b[0m                                Traceback (most recent call last)",
      "Cell \u001b[0;32mIn[41], line 6\u001b[0m\n\u001b[1;32m      4\u001b[0m vectors_list_train_idt_flat \u001b[38;5;241m=\u001b[39m vectors_list_train_idt\u001b[38;5;241m.\u001b[39mreshape((\u001b[38;5;241m1000\u001b[39m, \u001b[38;5;241m-\u001b[39m\u001b[38;5;241m1\u001b[39m))\n\u001b[1;32m      5\u001b[0m vectors_list_test_idt_flat \u001b[38;5;241m=\u001b[39m vectors_list_test_idt\u001b[38;5;241m.\u001b[39mreshape((\u001b[38;5;241m1000\u001b[39m, \u001b[38;5;241m-\u001b[39m\u001b[38;5;241m1\u001b[39m))\n\u001b[0;32m----> 6\u001b[0m history \u001b[38;5;241m=\u001b[39m \u001b[43mmodel\u001b[49m\u001b[38;5;241;43m.\u001b[39;49m\u001b[43mfit\u001b[49m\u001b[43m(\u001b[49m\u001b[43mtrain_data_img\u001b[49m\u001b[43m,\u001b[49m\u001b[43m \u001b[49m\u001b[43mvectors_list_train_idt_flat\u001b[49m\u001b[43m,\u001b[49m\u001b[43m \u001b[49m\u001b[43mepochs\u001b[49m\u001b[38;5;241;43m=\u001b[39;49m\u001b[38;5;241;43m20\u001b[39;49m\u001b[43m,\u001b[49m\u001b[43m \u001b[49m\u001b[43mbatch_size\u001b[49m\u001b[38;5;241;43m=\u001b[39;49m\u001b[38;5;241;43m8\u001b[39;49m\u001b[43m,\u001b[49m\u001b[43m \u001b[49m\u001b[43mvalidation_data\u001b[49m\u001b[38;5;241;43m=\u001b[39;49m\u001b[43m(\u001b[49m\u001b[43mtest_data_img\u001b[49m\u001b[43m,\u001b[49m\u001b[43m \u001b[49m\u001b[43mvectors_list_test_idt_flat\u001b[49m\u001b[43m)\u001b[49m\u001b[43m,\u001b[49m\u001b[43m \u001b[49m\u001b[43mverbose\u001b[49m\u001b[38;5;241;43m=\u001b[39;49m\u001b[38;5;241;43m1\u001b[39;49m\u001b[43m)\u001b[49m\n",
      "File \u001b[0;32m/anaconda/envs/py38_default/lib/python3.8/site-packages/keras/utils/traceback_utils.py:70\u001b[0m, in \u001b[0;36mfilter_traceback.<locals>.error_handler\u001b[0;34m(*args, **kwargs)\u001b[0m\n\u001b[1;32m     67\u001b[0m     filtered_tb \u001b[38;5;241m=\u001b[39m _process_traceback_frames(e\u001b[38;5;241m.\u001b[39m__traceback__)\n\u001b[1;32m     68\u001b[0m     \u001b[38;5;66;03m# To get the full stack trace, call:\u001b[39;00m\n\u001b[1;32m     69\u001b[0m     \u001b[38;5;66;03m# `tf.debugging.disable_traceback_filtering()`\u001b[39;00m\n\u001b[0;32m---> 70\u001b[0m     \u001b[38;5;28;01mraise\u001b[39;00m e\u001b[38;5;241m.\u001b[39mwith_traceback(filtered_tb) \u001b[38;5;28;01mfrom\u001b[39;00m \u001b[38;5;28mNone\u001b[39m\n\u001b[1;32m     71\u001b[0m \u001b[38;5;28;01mfinally\u001b[39;00m:\n\u001b[1;32m     72\u001b[0m     \u001b[38;5;28;01mdel\u001b[39;00m filtered_tb\n",
      "File \u001b[0;32m/tmp/__autograph_generated_filentd14l8_.py:15\u001b[0m, in \u001b[0;36mouter_factory.<locals>.inner_factory.<locals>.tf__train_function\u001b[0;34m(iterator)\u001b[0m\n\u001b[1;32m     13\u001b[0m \u001b[38;5;28;01mtry\u001b[39;00m:\n\u001b[1;32m     14\u001b[0m     do_return \u001b[38;5;241m=\u001b[39m \u001b[38;5;28;01mTrue\u001b[39;00m\n\u001b[0;32m---> 15\u001b[0m     retval_ \u001b[38;5;241m=\u001b[39m ag__\u001b[38;5;241m.\u001b[39mconverted_call(ag__\u001b[38;5;241m.\u001b[39mld(step_function), (ag__\u001b[38;5;241m.\u001b[39mld(\u001b[38;5;28mself\u001b[39m), ag__\u001b[38;5;241m.\u001b[39mld(iterator)), \u001b[38;5;28;01mNone\u001b[39;00m, fscope)\n\u001b[1;32m     16\u001b[0m \u001b[38;5;28;01mexcept\u001b[39;00m:\n\u001b[1;32m     17\u001b[0m     do_return \u001b[38;5;241m=\u001b[39m \u001b[38;5;28;01mFalse\u001b[39;00m\n",
      "\u001b[0;31mValueError\u001b[0m: in user code:\n\n    File \"/anaconda/envs/py38_default/lib/python3.8/site-packages/keras/engine/training.py\", line 1249, in train_function  *\n        return step_function(self, iterator)\n    File \"/anaconda/envs/py38_default/lib/python3.8/site-packages/keras/engine/training.py\", line 1233, in step_function  **\n        outputs = model.distribute_strategy.run(run_step, args=(data,))\n    File \"/anaconda/envs/py38_default/lib/python3.8/site-packages/keras/engine/training.py\", line 1222, in run_step  **\n        outputs = model.train_step(data)\n    File \"/anaconda/envs/py38_default/lib/python3.8/site-packages/keras/engine/training.py\", line 1024, in train_step\n        loss = self.compute_loss(x, y, y_pred, sample_weight)\n    File \"/anaconda/envs/py38_default/lib/python3.8/site-packages/keras/engine/training.py\", line 1082, in compute_loss\n        return self.compiled_loss(\n    File \"/anaconda/envs/py38_default/lib/python3.8/site-packages/keras/engine/compile_utils.py\", line 265, in __call__\n        loss_value = loss_obj(y_t, y_p, sample_weight=sw)\n    File \"/anaconda/envs/py38_default/lib/python3.8/site-packages/keras/losses.py\", line 152, in __call__\n        losses = call_fn(y_true, y_pred)\n    File \"/anaconda/envs/py38_default/lib/python3.8/site-packages/keras/losses.py\", line 284, in call  **\n        return ag_fn(y_true, y_pred, **self._fn_kwargs)\n    File \"/anaconda/envs/py38_default/lib/python3.8/site-packages/keras/losses.py\", line 2004, in categorical_crossentropy\n        return backend.categorical_crossentropy(\n    File \"/anaconda/envs/py38_default/lib/python3.8/site-packages/keras/backend.py\", line 5532, in categorical_crossentropy\n        target.shape.assert_is_compatible_with(output.shape)\n\n    ValueError: Shapes (8, 551) and (8, 29) are incompatible\n"
     ]
    }
   ],
   "source": [
    "import numpy as np\n",
    "\n",
    "# Aplanar las dos primeras dimensiones de los datos de salida\n",
    "vectors_list_train_idt_flat = vectors_list_train_idt.reshape((1000, -1))\n",
    "vectors_list_test_idt_flat = vectors_list_test_idt.reshape((1000, -1))\n",
    "history = model.fit(train_data_img, vectors_list_train_idt_flat, epochs=20, batch_size=8, validation_data=(test_data_img, vectors_list_test_idt_flat), verbose=1)\n"
   ]
  }
 ],
 "metadata": {
  "kernelspec": {
   "display_name": "py38_default",
   "language": "python",
   "name": "python3"
  },
  "language_info": {
   "codemirror_mode": {
    "name": "ipython",
    "version": 3
   },
   "file_extension": ".py",
   "mimetype": "text/x-python",
   "name": "python",
   "nbconvert_exporter": "python",
   "pygments_lexer": "ipython3",
   "version": "3.8.16"
  }
 },
 "nbformat": 4,
 "nbformat_minor": 2
}
